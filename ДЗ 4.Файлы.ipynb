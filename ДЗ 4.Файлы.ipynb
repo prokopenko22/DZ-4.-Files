{
 "cells": [
  {
   "cell_type": "markdown",
   "id": "fd02d5ec",
   "metadata": {},
   "source": [
    "Домашнее задание\n",
    "\n",
    "    Переведите содержимое файла purchase_log.txt в словарь purchases вида:\n",
    "    {‘1840e0b9d4’: ‘Продукты’, …}\n",
    "\n",
    "    Для каждого user_id в файле visit_log.csv определите третий столбец с категорией покупки, если покупка была, сам файл visit_log.csv изменять не надо. Запишите в файл funnel.csv визиты из файла visit_log.csv, в которых были покупки с указанием категории.\n",
    "    Учтите условия на данные:\n",
    "    содержимое purchase_log.txt помещается в оперативную память компьютера;\n",
    "    содержимое visit_log.csv — нет; используйте только построчную обработку этого файла.\n"
   ]
  },
  {
   "cell_type": "code",
   "execution_count": 26,
   "id": "7843d31d",
   "metadata": {},
   "outputs": [],
   "source": [
    "f = open(\"purchase_log.txt\", \"r\")"
   ]
  },
  {
   "cell_type": "code",
   "execution_count": null,
   "id": "80afd6e4",
   "metadata": {},
   "outputs": [],
   "source": [
    "import json"
   ]
  },
  {
   "cell_type": "code",
   "execution_count": 122,
   "id": "668295f6",
   "metadata": {},
   "outputs": [],
   "source": [
    "purchases = {}\n",
    "with open(\"purchase_log.txt\", encoding = 'utf-8') as f:\n",
    "     for line in f:\n",
    "        p = json.loads(line)\n",
    "        key = p[\"user_id\"]\n",
    "        value = p[\"category\"]\n",
    "        purchases.setdefault(key, value) \n"
   ]
  },
  {
   "cell_type": "code",
   "execution_count": 136,
   "id": "bd17bae5",
   "metadata": {},
   "outputs": [],
   "source": [
    "\n",
    "with open(\"visit_log.csv\", \"r\") as f_1, open(\"funnel.csv\", \"w\") as f_2:\n",
    "     for i, line in enumerate(f_1):\n",
    "        line = line.strip().split(\",\")\n",
    "        if line[0] in purchases.keys():\n",
    "            line.append(purchases[line[0]])\n",
    "            ad_line = ','.join(line)\n",
    "            \n",
    "            f_2.write(ad_line + '\\n')\n",
    "        \n",
    "\n",
    "            \n",
    "         "
   ]
  },
  {
   "cell_type": "code",
   "execution_count": null,
   "id": "6889775a",
   "metadata": {},
   "outputs": [],
   "source": []
  },
  {
   "cell_type": "code",
   "execution_count": null,
   "id": "a2ebc689",
   "metadata": {},
   "outputs": [],
   "source": []
  }
 ],
 "metadata": {
  "kernelspec": {
   "display_name": "Python 3 (ipykernel)",
   "language": "python",
   "name": "python3"
  },
  "language_info": {
   "codemirror_mode": {
    "name": "ipython",
    "version": 3
   },
   "file_extension": ".py",
   "mimetype": "text/x-python",
   "name": "python",
   "nbconvert_exporter": "python",
   "pygments_lexer": "ipython3",
   "version": "3.9.13"
  }
 },
 "nbformat": 4,
 "nbformat_minor": 5
}
